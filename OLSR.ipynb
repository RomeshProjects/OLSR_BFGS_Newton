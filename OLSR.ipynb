{
  "nbformat": 4,
  "nbformat_minor": 0,
  "metadata": {
    "colab": {
      "provenance": []
    },
    "kernelspec": {
      "name": "python3",
      "display_name": "Python 3"
    },
    "language_info": {
      "name": "python"
    }
  },
  "cells": [
    {
      "cell_type": "code",
      "execution_count": null,
      "metadata": {
        "id": "31jFneUgOSx2"
      },
      "outputs": [],
      "source": [
        "import numpy as np\n",
        "import matplotlib.pyplot as plt"
      ]
    },
    {
      "cell_type": "code",
      "source": [
        "from sympy import symbols, hessian, Function, N"
      ],
      "metadata": {
        "id": "5ULRyQpi68P7"
      },
      "execution_count": null,
      "outputs": []
    },
    {
      "cell_type": "code",
      "source": [
        "np.random.seed(1000)"
      ],
      "metadata": {
        "id": "5Jw6aN8BOc3j"
      },
      "execution_count": null,
      "outputs": []
    },
    {
      "cell_type": "code",
      "source": [
        "from sympy import symbols, hessian, Function, N\n",
        "from timeit import default_timer as timer"
      ],
      "metadata": {
        "id": "y5w7JFJv6Sd9"
      },
      "execution_count": null,
      "outputs": []
    },
    {
      "cell_type": "code",
      "source": [
        "def xbar():\n",
        "\n",
        "  x_bar= np.zeros(10).reshape(10,1) #Random vector of size 10×1\n",
        "  for i in range(0,len(x_bar),2):\n",
        "    np.random.seed(1000)\n",
        "    x_bar[i]=np.random.uniform(-(i+2),-(i+1))\n",
        "  for i in range(1,len(x_bar),2):\n",
        "    np.random.seed(1000)\n",
        "    x_bar[i]=np.random.uniform((i+1),(i+2))\n",
        "  return np.array(x_bar)"
      ],
      "metadata": {
        "id": "kaTAQ33EPxXf"
      },
      "execution_count": null,
      "outputs": []
    },
    {
      "cell_type": "code",
      "source": [
        "xbar()"
      ],
      "metadata": {
        "colab": {
          "base_uri": "https://localhost:8080/"
        },
        "id": "twftN5qZ6Drs",
        "outputId": "25889f57-f388-4ec9-9359-c0979f5cd1a9"
      },
      "execution_count": null,
      "outputs": [
        {
          "output_type": "execute_result",
          "data": {
            "text/plain": [
              "array([[-1.34641041],\n",
              "       [ 2.65358959],\n",
              "       [-3.34641041],\n",
              "       [ 4.65358959],\n",
              "       [-5.34641041],\n",
              "       [ 6.65358959],\n",
              "       [-7.34641041],\n",
              "       [ 8.65358959],\n",
              "       [-9.34641041],\n",
              "       [10.65358959]])"
            ]
          },
          "metadata": {},
          "execution_count": 222
        }
      ]
    },
    {
      "cell_type": "code",
      "source": [
        "np.random.seed(1000)\n",
        "A = np.random.randn(1000, 10)\n",
        "epsilon = np.random.randn(1000, 1)\n",
        "x_bar = xbar()\n",
        "A_x = np.matmul(A, x_bar)\n",
        "y = A_x + epsilon"
      ],
      "metadata": {
        "id": "-39Q318lDvTD"
      },
      "execution_count": null,
      "outputs": []
    },
    {
      "cell_type": "code",
      "source": [
        "#Defining function\n",
        "def evalf(x):\n",
        "\n",
        "  assert type(x) is np.ndarray\n",
        "  fval = np.linalg.norm(np.matmul(A,x) - y)\n",
        "  fval = 0.5 * (fval)**2\n",
        "  return (fval)\n"
      ],
      "metadata": {
        "id": "vDzfItEdESFL"
      },
      "execution_count": null,
      "outputs": []
    },
    {
      "cell_type": "code",
      "execution_count": null,
      "metadata": {
        "id": "0RMNV94i74-2"
      },
      "outputs": [],
      "source": [
        "#Defining Gradient\n",
        "def evalg(x):\n",
        "\n",
        " return np.array(np.matmul(A.T, np.matmul(A, x) - y))"
      ]
    },
    {
      "cell_type": "code",
      "source": [
        "#Defining hessian\n",
        "def evalh(x):\n",
        "\n",
        "  assert type(x) is np.ndarray\n",
        "  return np.matmul(A.T,A)\n"
      ],
      "metadata": {
        "id": "r_FTk77MeKoJ"
      },
      "execution_count": null,
      "outputs": []
    },
    {
      "cell_type": "code",
      "source": [
        "def compute_D_k(x):\n",
        " D_k = np.linalg.pinv(evalh(x))\n",
        " return np.array(D_k)"
      ],
      "metadata": {
        "id": "6ZANmSGAVj_1"
      },
      "execution_count": null,
      "outputs": []
    },
    {
      "cell_type": "code",
      "source": [
        "def compute_steplength_newton(x, gradf, direction, alpha_start, rho, gamma): #adding appropriate arguments to the function\n",
        "\n",
        "\n",
        "  D_k = compute_D_k(x)\n",
        "  alpha = alpha_start\n",
        "  f = evalf(x)\n",
        "  xnew = np.add(x, np.multiply(alpha, direction))\n",
        "  fnew = evalf(xnew)\n",
        "\n",
        "  while (fnew > f + gamma*alpha*np.dot(gradf.T,direction)).any():\n",
        "    alpha = rho*alpha;\n",
        "    xnew = np.add(x, np.multiply(alpha, direction))\n",
        "    fnew = evalf(xnew)\n",
        "  return alpha"
      ],
      "metadata": {
        "id": "sS_gnkQWtffi"
      },
      "execution_count": null,
      "outputs": []
    },
    {
      "cell_type": "code",
      "execution_count": null,
      "metadata": {
        "id": "ntTErKYoIJUP"
      },
      "outputs": [],
      "source": [
        "#line search type\n",
        "BACKTRACKING_LINE_SEARCH = 1\n",
        "BACKTRACKING_LINE_SEARCH_SCALING = 2\n",
        "EXACT_LINE_SEARCH = 3\n",
        "CONSTANT_STEP_LENGTH = 4\n"
      ]
    },
    {
      "cell_type": "code",
      "source": [
        " #The Newton’s method with backtracking line search to find the minimizer\n",
        "def find_minimizer_gdscaling_newton(start_x, tol, line_search_type,*args): #Adding appropriate arguments to the function\n",
        "  x = start_x\n",
        "  g_x = evalg(x)\n",
        "\n",
        "  #initialization for backtracking line search\n",
        "  if(line_search_type == BACKTRACKING_LINE_SEARCH_SCALING):\n",
        "    alpha_start = args[0]\n",
        "    rho = args[1]\n",
        "    gamma = args[2]\n",
        "\n",
        "  k = 0\n",
        "  x_array = []\n",
        "\n",
        "  while (np.linalg.norm(g_x) > tol):\n",
        "    D_k = compute_D_k(x)\n",
        "    direction = -np.matmul(D_k, g_x)\n",
        "    if line_search_type == BACKTRACKING_LINE_SEARCH_SCALING:\n",
        "      step_length = compute_steplength_newton(x, g_x, direction, alpha_start, rho, gamma)\n",
        "    else:\n",
        "      raise ValueError('Line search type unknown. Please check!')\n",
        "\n",
        "    x_array.append(x)\n",
        "\n",
        "    #implement the gradient descent steps here\n",
        "    Hessian = evalh(x)\n",
        "    x = np.add(x, np.multiply(step_length,direction)) #update x = x + step_length*direction\n",
        "    k += 1 #increment iteration\n",
        "    g_x = evalg(x) #compute gradient at new point\n",
        "\n",
        "  print('iter:',k, ' f(x):', evalf(x), ' gradient norm:', np.linalg.norm(g_x))\n",
        "  return x, evalf(x), k ,x_array"
      ],
      "metadata": {
        "id": "MlMt9nN_uInF"
      },
      "execution_count": null,
      "outputs": []
    },
    {
      "cell_type": "code",
      "execution_count": null,
      "metadata": {
        "id": "LmcO7v7M7HAL",
        "colab": {
          "base_uri": "https://localhost:8080/"
        },
        "outputId": "ac407ab9-83f1-4e63-df73-89222dd8f2d3"
      },
      "outputs": [
        {
          "output_type": "stream",
          "name": "stdout",
          "text": [
            "iter: 5  f(x): 504.5963652036182  gradient norm: 2.3807271360771784e-06\n",
            "Time taken to compute is: 0.017952210999737872\n",
            "Optimum function value: 504.5963652036182\n",
            "Function value at x_bar: 508.51427768443995\n",
            "Number of iterations: 5\n"
          ]
        }
      ],
      "source": [
        " tol_1= 1e-4\n",
        " start_x_1 = np.full(10,0).reshape(10,1)\n",
        " start_time = timer()\n",
        " x_opt_1, funct_val_1 , k_1 ,x_array= find_minimizer_gdscaling_newton(start_x_1,tol_1,BACKTRACKING_LINE_SEARCH_SCALING, 0.99, 0.5, 0.5)\n",
        " end_time = timer()\n",
        " diff=end_time - start_time\n",
        " print('Time taken to compute is' ':',diff)\n",
        " print(\"Optimum function value:\",funct_val_1)\n",
        " print(\"Function value at x_bar:\",evalf(x_bar))\n",
        " print(\"Number of iterations:\",k_1)\n",
        "\n"
      ]
    },
    {
      "cell_type": "markdown",
      "source": [
        "**2.2**\n",
        "\n",
        "iter: 5  \n",
        "\n",
        "f(x): 504.5963652036182  \n",
        "\n",
        "gradient norm: 2.3807271360771784e-06\n",
        "\n",
        "Time taken to compute is: 0.013648108000040793\n",
        "\n",
        "Optimum function value: 504.5963652036182\n",
        "\n",
        "Function value at x_bar: 508.51427768443995\n",
        "\n",
        "Number of iterations: 5"
      ],
      "metadata": {
        "id": "zTklBcis8F7_"
      }
    },
    {
      "cell_type": "markdown",
      "source": [
        "You can see function value at X_bar and X are very close. There is small differencr because of noise."
      ],
      "metadata": {
        "id": "CkSCRiXeAAG8"
      }
    },
    {
      "cell_type": "code",
      "source": [
        "import math"
      ],
      "metadata": {
        "id": "SZ4qHMA26kjc"
      },
      "execution_count": null,
      "outputs": []
    },
    {
      "cell_type": "code",
      "source": [
        " x_newton = [0]*len(x_array)\n",
        " f_newton = [0]*len(x_array)\n",
        "\n",
        " for i in range (len(x_newton)):\n",
        "  x_newton[i]=math.log(np.linalg.norm(x_array[i] -  x_opt_1))\n",
        "  f_newton[i]=math.log(np.abs(evalf(x_array[i]) - evalf( x_opt_1)))"
      ],
      "metadata": {
        "id": "vWmujsuD0Cmz"
      },
      "execution_count": null,
      "outputs": []
    },
    {
      "cell_type": "code",
      "source": [
        "plt.figure(figsize=(10,8))\n",
        "plt.plot(x_newton)\n",
        "plt.title('Plot of the values $log(||x^k - x^*||_2$ vs Iterations k  using Newtons Method',fontsize=15)\n",
        "plt.xlabel('Iterations(k)',fontsize=20)\n",
        "plt.ylabel('$log(||x^k - x^*||_2$',fontsize=20)\n",
        "plt.legend(['log(||x^k - x^*||_2'],fontsize=15)\n",
        "plt.show()"
      ],
      "metadata": {
        "colab": {
          "base_uri": "https://localhost:8080/",
          "height": 528
        },
        "id": "trM2z-tK6XmV",
        "outputId": "3947d3d1-38bd-4fb9-f8cb-aeb0b79c4a68"
      },
      "execution_count": null,
      "outputs": [
        {
          "output_type": "display_data",
          "data": {
            "text/plain": [
              "<Figure size 720x576 with 1 Axes>"
            ],
            "image/png": "[encoded data removed]"
          },
          "metadata": {
            "needs_background": "light"
          }
        }
      ]
    },
    {
      "cell_type": "code",
      "source": [
        "plt.figure(figsize=(10,8))\n",
        "plt.plot(f_newton)\n",
        "plt.title('Plot of the values $log(|f^k - f^*|$ vs Iterations k  using Newtons Method',fontsize=15)\n",
        "plt.xlabel('Iterations (k)',fontsize=20)\n",
        "plt.ylabel('$log(|f^k - f^*|$' ,fontsize=20)\n",
        "plt.legend(['log(|f^k - f^*|'],fontsize=15)\n",
        "plt.show()"
      ],
      "metadata": {
        "colab": {
          "base_uri": "https://localhost:8080/",
          "height": 528
        },
        "id": "J9q6ccau7VUI",
        "outputId": "a5e9d85f-0ef4-4e5a-b2e2-db0f7a08d147"
      },
      "execution_count": null,
      "outputs": [
        {
          "output_type": "display_data",
          "data": {
            "text/plain": [
              "<Figure size 720x576 with 1 Axes>"
            ],
            "image/png": "[encoded data removed]"
          },
          "metadata": {
            "needs_background": "light"
          }
        }
      ]
    },
    {
      "cell_type": "markdown",
      "source": [
        "\n",
        "**2.2**\n",
        "\n",
        "Observations for plots\n",
        "\n",
        "Convergence rates of both the plots is linear as clearly seen in the plots.\n",
        "\n",
        "Both the iterates and function values sequences are Q-linear."
      ],
      "metadata": {
        "id": "itFvizgi8aXx"
      }
    },
    {
      "cell_type": "code",
      "source": [
        "def compute_B_k(s_k, y_k, B_k):\n",
        "\n",
        "  assert type(s_k) is np.ndarray\n",
        "  assert type(y_k) is np.ndarray\n",
        "  assert type(B_k) is np.ndarray\n",
        "  I=np.identity(10)\n",
        "  mu = 1 / np.dot(np.squeeze(np.asarray(y_k)), np.squeeze(np.asarray(s_k)))\n",
        "  P = np.outer(np.dot(mu, s_k), (y_k).T)\n",
        "  Q = np.outer(np.dot(mu, y_k), (s_k).T)\n",
        "  R = np.outer(np.dot(mu, s_k), (s_k).T)\n",
        "  P_1 = np.subtract(I, P)\n",
        "  Q_1 = np.subtract(I, Q)\n",
        "\n",
        "  a = np.matmul(np.matmul(P_1, B_k), Q_1)\n",
        "  b = np.add(a, R)\n",
        "\n",
        "  return b"
      ],
      "metadata": {
        "id": "XFsYtU0LHoH-"
      },
      "execution_count": null,
      "outputs": []
    },
    {
      "cell_type": "code",
      "execution_count": null,
      "metadata": {
        "id": "UvejJgzTCKLV"
      },
      "outputs": [],
      "source": [
        "def compute_steplength_backtracking_scaled_direction(x, gradf,B_k, alpha_start, rho, gamma): #Adding appropriate arguments to the function\n",
        "  assert type(x) is np.ndarray\n",
        "  assert type(gradf) is np.ndarray\n",
        "  assert type(alpha_start) is float and alpha_start>=0.\n",
        "  assert type(rho) is float and rho>=0.\n",
        "  #assert type(gamma) is float and gamma>=0.\n",
        "  g_x = evalg(x)\n",
        "\n",
        "  P_k = (-1)*np.matmul(B_k, gradf)\n",
        "  alpha = alpha_start\n",
        "  f = evalf(x)\n",
        "  xnew = x + np.multiply(alpha, P_k)\n",
        "  fnew = evalf(xnew)\n",
        "\n",
        "  while (fnew > f + gamma*alpha*np.matmul(gradf.T, P_k)):\n",
        "    alpha = rho*alpha;\n",
        "    xnew = np.add(x, np.multiply(alpha, P_k))\n",
        "    fnew = evalf(xnew)\n",
        "  return alpha"
      ]
    },
    {
      "cell_type": "code",
      "source": [
        "def find_minimizer_gdscaling(start_x, tol, line_search_type, *args): #Adding appropriate arguments to the function\n",
        "  assert type(start_x) is np.ndarray\n",
        "  assert type(tol) is float and tol>=0\n",
        "\n",
        "  x = start_x\n",
        "  g_x = evalg(x)\n",
        "  k = 0\n",
        "  B_k = np.identity(10)\n",
        "\n",
        "   #initialization for backtracking line search\n",
        "  if line_search_type == BACKTRACKING_LINE_SEARCH:\n",
        "    if args is None:\n",
        "      err_msg = 'Line search type: BACKTRACKING_LINE_SEARCH, but did not receive any args. Please check!'\n",
        "      raise ValueError(err_msg)\n",
        "    else:\n",
        "      alpha_start = float(args[0])\n",
        "      rho = float(args[1])\n",
        "      gamma = float(args[2])\n",
        "\n",
        "  x_array_2 = []\n",
        "\n",
        "  while (np.linalg.norm(g_x) > tol):\n",
        "    if line_search_type == BACKTRACKING_LINE_SEARCH:\n",
        "      step_length = compute_steplength_backtracking_scaled_direction(x, g_x,B_k, alpha_start, rho, gamma)\n",
        "    elif line_search_type == CONSTANT_STEP_LENGTH:\n",
        "      step_length = 1.\n",
        "    else:\n",
        "      raise ValueError('Line search type unknown. Please check!')\n",
        "\n",
        "    x_array_2.append(x)\n",
        "\n",
        "    x_old = x\n",
        "    x = x_old - step_length*np.matmul(B_k, g_x)\n",
        "    s_k =x-x_old\n",
        "    y_k=np.subtract(evalg(x),evalg(x_old))\n",
        "    B_k = compute_B_k(s_k,y_k,B_k)\n",
        "\n",
        "    k += 1 #increment iteration\n",
        "    g_x = evalg(x) #compute gradient at new point\n",
        "\n",
        "\n",
        "  print('iter:',k, ' f(x):', evalf(x), ' gradient norm:', np.linalg.norm(g_x))\n",
        "  return x, evalf(x), k,x_array_2"
      ],
      "metadata": {
        "id": "BTTXlkK6gZZN"
      },
      "execution_count": null,
      "outputs": []
    },
    {
      "cell_type": "markdown",
      "source": [
        "**1.3**"
      ],
      "metadata": {
        "id": "VLkX9GYcAms5"
      }
    },
    {
      "cell_type": "code",
      "source": [
        " my_tol_2= 1e-4\n",
        " my_start_x_2 = np.full(10,0).reshape(10,1)\n",
        " start_time = timer()\n",
        " x_opt_2, funct_val_2 , k_2 ,x_array_2= find_minimizer_gdscaling(my_start_x_2,my_tol_2,BACKTRACKING_LINE_SEARCH, 0.99, 0.5, 0.5)\n",
        " end_time = timer()\n",
        " diff=end_time - start_time\n",
        " print('Time taken to compute' ':',diff)\n",
        " print(\"Optimum function value:\",funct_val_2)\n",
        " print(\"Function value at x_bar:\",evalf(x_bar))\n",
        " print(\"Number of iterations:\",k_2)"
      ],
      "metadata": {
        "colab": {
          "base_uri": "https://localhost:8080/"
        },
        "id": "yPnaoYDetVWi",
        "outputId": "b8ab9204-2832-4b34-df68-77ad127f6ff5"
      },
      "execution_count": null,
      "outputs": [
        {
          "output_type": "stream",
          "name": "stdout",
          "text": [
            "iter: 16  f(x): 504.5963652036207  gradient norm: 7.16625128475164e-05\n",
            "Time taken to compute: 0.013252576000013505\n",
            "Optimum function value: 504.5963652036207\n",
            "Function value at x_bar: 508.51427768443995\n",
            "Number of iterations: 16\n"
          ]
        }
      ]
    },
    {
      "cell_type": "markdown",
      "source": [
        "iter: 16\n",
        " f(x): 504.5963652036207\n",
        "\n",
        "   gradient norm: 7.16625128475164e-05\n",
        "\n",
        "Time taken to compute: 0.015574706000052174\n",
        "\n",
        "Optimum function value: 504.5963652036207\n",
        "\n",
        "Function value at x_bar: 508.51427768443995\n",
        "\n",
        "Number of iterations: 16"
      ],
      "metadata": {
        "id": "yztWmld0Arn9"
      }
    },
    {
      "cell_type": "markdown",
      "source": [
        "Both valuse of function at X_bar and X are close.\n",
        "\n",
        "There is small difference between these two is because of noise"
      ],
      "metadata": {
        "id": "0AZwu_70AxBm"
      }
    },
    {
      "cell_type": "code",
      "source": [
        " x_BFGS = [0]*len(x_array_2)\n",
        " f_BFGS = [0]*len(x_array_2)\n",
        "\n",
        " for i in range (len(x_BFGS)):\n",
        "  x_BFGS[i]=math.log(np.linalg.norm(x_array_2[i] -  x_opt_2))\n",
        "  f_BFGS[i]=math.log(np.abs(evalf(x_array_2[i]) - evalf( x_opt_2)))"
      ],
      "metadata": {
        "id": "eT9cA22b3NUl"
      },
      "execution_count": null,
      "outputs": []
    },
    {
      "cell_type": "code",
      "source": [
        "plt.figure(figsize=(10,8))\n",
        "plt.plot(x_BFGS)\n",
        "plt.title('Plot of the values $log(||x^k - x^*||_2$ vs Iterations k  using BFGS Method',fontsize=15)\n",
        "plt.xlabel('Iterations(k)',fontsize=20)\n",
        "plt.ylabel('$log(||x^k - x^*||_2$',fontsize=20)\n",
        "plt.legend(['log(||x^k - x^*||_2'],fontsize=15)\n",
        "plt.show()"
      ],
      "metadata": {
        "colab": {
          "base_uri": "https://localhost:8080/",
          "height": 528
        },
        "id": "eGc8EIPI8okK",
        "outputId": "c5666a2f-636d-4211-98db-35b6c03b8eda"
      },
      "execution_count": null,
      "outputs": [
        {
          "output_type": "display_data",
          "data": {
            "text/plain": [
              "<Figure size 720x576 with 1 Axes>"
            ],
            "image/png": "[encoded data removed]"
          },
          "metadata": {
            "needs_background": "light"
          }
        }
      ]
    },
    {
      "cell_type": "code",
      "source": [
        "plt.figure(figsize=(10,8))\n",
        "plt.plot(f_BFGS)\n",
        "plt.title('Plot of the values $log(|f^k - f^*|$ vs Iterations k  using BFGS Method',fontsize=15)\n",
        "plt.xlabel('Iterations (k)',fontsize=20)\n",
        "plt.ylabel('$log(|f^k - f^*|$' ,fontsize=20)\n",
        "plt.legend(['log(|f^k - f^*|'] ,fontsize=15)\n",
        "plt.show()"
      ],
      "metadata": {
        "colab": {
          "base_uri": "https://localhost:8080/",
          "height": 528
        },
        "id": "QUKhAU0T85gw",
        "outputId": "b7adc804-4c99-4073-ae4e-a52b10195c78"
      },
      "execution_count": null,
      "outputs": [
        {
          "output_type": "display_data",
          "data": {
            "text/plain": [
              "<Figure size 720x576 with 1 Axes>"
            ],
            "image/png": "[encoded data removed]"
          },
          "metadata": {
            "needs_background": "light"
          }
        }
      ]
    },
    {
      "cell_type": "markdown",
      "source": [
        "**1.3**\n"
      ],
      "metadata": {
        "id": "oeD227l6BJxN"
      }
    },
    {
      "cell_type": "markdown",
      "source": [
        "Observations\n",
        "\n",
        "Here both the sequences of iterates and function values show similar convergence.\n",
        "\n",
        "From graphs we can say that sequences are Q-quadratic.\n"
      ],
      "metadata": {
        "id": "fkzWlwBJBOKR"
      }
    },
    {
      "cell_type": "markdown",
      "source": [
        "**1.4**"
      ],
      "metadata": {
        "id": "UszF90NdBeSz"
      }
    },
    {
      "cell_type": "markdown",
      "source": [
        "**BFGS**\n",
        "\n",
        "iter: 16\n",
        " f(x): 504.5963652036207\n",
        "\n",
        "   gradient norm: 7.16625128475164e-05\n",
        "\n",
        "Time taken to compute: 0.015574706000052174\n",
        "\n",
        "Optimum function value: 504.5963652036207\n",
        "\n",
        "Function value at x_bar: 508.51427768443995\n",
        "\n",
        "Number of iterations: 16"
      ],
      "metadata": {
        "id": "F1bfuOt8Bids"
      }
    },
    {
      "cell_type": "markdown",
      "source": [
        "**Newton**\n",
        "\n",
        "iter: 5  \n",
        "\n",
        "f(x): 504.5963652036182  \n",
        "\n",
        "gradient norm: 2.3807271360771784e-06\n",
        "\n",
        "Time taken to compute is: 0.013648108000040793\n",
        "\n",
        "Optimum function value: 504.5963652036182\n",
        "\n",
        "Function value at x_bar: 508.51427768443995\n",
        "\n",
        "Number of iterations: 5"
      ],
      "metadata": {
        "id": "NrIAJM0CBmAP"
      }
    },
    {
      "cell_type": "markdown",
      "source": [
        "Its clear that both methods give almost same function.\n",
        "\n",
        "BFGS takkes more iterations to converge\n",
        "\n",
        "Time in BFGS is more than newton"
      ],
      "metadata": {
        "id": "-SULhXphB0ff"
      }
    }
  ]
}